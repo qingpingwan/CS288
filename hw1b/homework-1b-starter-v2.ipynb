{
 "cells": [
  {
   "cell_type": "code",
   "execution_count": 58,
   "metadata": {},
   "outputs": [],
   "source": [
    "# Some of the functions below require an older version of torchtext than the default one Kaggle gives you.\n",
    "# IMPORTANT: Make sure that Internet is turned on!!! (Notebook options in the bar on the right)\n",
    "# IMPORTANT: If you're not already using Kaggle, we STRONGLY recommend you switch to Kaggle for hw1b in particular,\n",
    "# because copying our notebook will pin you to a Python version that lets you install the right version of torchtext.\n",
    "# On Colab you will have to downgrade your Python to e.g., 3.7 to do the below pip install, which is a pain to do.\n",
    "#!pip install torchtext==0.10.0\n",
    "#exit()\n"
   ]
  },
  {
   "cell_type": "code",
   "execution_count": 1,
   "metadata": {
    "executionInfo": {
     "elapsed": 1116,
     "status": "ok",
     "timestamp": 1614318181024,
     "user": {
      "displayName": "Rudy Corona Rodriguez",
      "photoUrl": "",
      "userId": "02448394073714905143"
     },
     "user_tz": 480
    },
    "id": "X1ATX-_J7SjQ",
    "outputId": "22d9213d-2b3b-415a-960c-bbbe88533690"
   },
   "outputs": [
    {
     "name": "stdout",
     "output_type": "stream",
     "text": [
      "['<eos>', '=', 'Homarus', 'gammarus', '=', '<eos>', '<eos>', 'Homarus', 'gammarus', ',', 'known', 'as', 'the', 'European', 'lobster', 'or', 'common', 'lobster', ',', 'is', 'a', 'species', 'of', '<unk>', 'lobster', 'from', 'the', 'eastern', 'Atlantic', 'Ocean']\n"
     ]
    }
   ],
   "source": [
    "# This block handles some basic setup and data loading.  \n",
    "# You shouldn't need to edit this, but if you want to \n",
    "# import other standard python packages, that is fine.\n",
    "\n",
    "# imports\n",
    "from collections import defaultdict, Counter\n",
    "import numpy as np\n",
    "import math\n",
    "import tqdm\n",
    "import random\n",
    "import pdb\n",
    "\n",
    "import torch\n",
    "from torch import nn\n",
    "import torch.nn.functional as F\n",
    "import torchtext\n",
    "\n",
    "from torchtext.legacy import data\n",
    "from torchtext.legacy import datasets\n",
    "\n",
    "# download and load the data\n",
    "text_field = data.Field()\n",
    "datasets = datasets.WikiText2.splits(root='.', text_field=text_field)\n",
    "\n",
    "train_dataset, validation_dataset, test_dataset = datasets\n",
    "\n",
    "text_field.build_vocab(train_dataset, validation_dataset, test_dataset)\n",
    "vocab = text_field.vocab\n",
    "vocab_size = len(vocab)\n",
    "\n",
    "train_text = train_dataset.examples[0].text # a list of tokens (strings)\n",
    "validation_text = validation_dataset.examples[0].text\n",
    "\n",
    "print(validation_text[:30])"
   ]
  },
  {
   "cell_type": "code",
   "execution_count": 70,
   "metadata": {
    "id": "QoFMSckDFTop"
   },
   "outputs": [
    {
     "name": "stdout",
     "output_type": "stream",
     "text": [
      "90077\n",
      "2088628\n",
      "217646\n"
     ]
    }
   ],
   "source": [
    "print(text_field.vocab.freqs['.'])\n",
    "print(len(train_text))\n",
    "print(len(validation_text))"
   ]
  },
  {
   "cell_type": "code",
   "execution_count": 2,
   "metadata": {},
   "outputs": [],
   "source": [
    "from collections import defaultdict, Counter\n",
    "import numpy as np\n",
    "import math\n",
    "import tqdm\n",
    "import random\n",
    "import pdb\n",
    "\n",
    "import torch\n",
    "from torch import nn\n",
    "import torch.nn.functional as F\n",
    "import torchtext"
   ]
  },
  {
   "cell_type": "markdown",
   "metadata": {
    "id": "g10PLGiZn0XY"
   },
   "source": [
    "We've implemented a unigram model here as a demonstration."
   ]
  },
  {
   "cell_type": "code",
   "execution_count": 3,
   "metadata": {
    "executionInfo": {
     "elapsed": 922,
     "status": "ok",
     "timestamp": 1614318184013,
     "user": {
      "displayName": "Rudy Corona Rodriguez",
      "photoUrl": "",
      "userId": "02448394073714905143"
     },
     "user_tz": 480
    },
    "id": "B7ZHMVZzoPEH",
    "outputId": "475b17e5-ab16-46a4-93ec-5b9a44b4874c"
   },
   "outputs": [
    {
     "name": "stdout",
     "output_type": "stream",
     "text": [
      "unigram validation perplexity: 965.0860734119312\n"
     ]
    }
   ],
   "source": [
    "class UnigramModel:\n",
    "    def __init__(self, train_text):\n",
    "        self.counts = Counter(train_text)\n",
    "        self.total_count = len(train_text)\n",
    "\n",
    "    def probability(self, word):\n",
    "        return self.counts[word] / self.total_count\n",
    "\n",
    "    def next_word_probabilities(self, text_prefix):\n",
    "        \"\"\"Return a list of probabilities for each word in the vocabulary.\"\"\"\n",
    "        return [self.probability(word) for word in vocab.itos]\n",
    "\n",
    "    def perplexity(self, full_text):\n",
    "        \"\"\"Return the perplexity of the model on a text as a float.\n",
    "        \n",
    "        full_text -- a list of string tokens\n",
    "        \"\"\"\n",
    "        log_probabilities = []\n",
    "        for word in full_text:\n",
    "            # Note that the base of the log doesn't matter \n",
    "            # as long as the log and exp use the same base.\n",
    "            log_probabilities.append(math.log(self.probability(word), 2))\n",
    "        return 2 ** -np.mean(log_probabilities)\n",
    "\n",
    "unigram_demonstration_model = UnigramModel(train_text)\n",
    "print('unigram validation perplexity:', \n",
    "      unigram_demonstration_model.perplexity(validation_text))\n",
    "\n",
    "def check_validity(model):\n",
    "    \"\"\"Performs several sanity checks on your model:\n",
    "    1) That next_word_probabilities returns a valid distribution\n",
    "    2) That perplexity matches a perplexity calculated from next_word_probabilities\n",
    "\n",
    "    Although it is possible to calculate perplexity from next_word_probabilities, \n",
    "    it is still good to have a separate more efficient method that only computes \n",
    "    the probabilities of observed words.\n",
    "    \"\"\"\n",
    "\n",
    "    log_probabilities = []\n",
    "    for i in range(10):\n",
    "        prefix = validation_text[:i]\n",
    "        probs = model.next_word_probabilities(prefix)\n",
    "        assert min(probs) >= 0, \"Negative value in next_word_probabilities\"\n",
    "        assert max(probs) <= 1 + 1e-8, \"Value larger than 1 in next_word_probabilities\"\n",
    "        assert abs(sum(probs)-1) < 1e-4, \"next_word_probabilities do not sum to 1\"\n",
    "\n",
    "        word_id = vocab.stoi[validation_text[i]]\n",
    "        selected_prob = probs[word_id]\n",
    "        log_probabilities.append(math.log(selected_prob))\n",
    "\n",
    "    perplexity = math.exp(-np.mean(log_probabilities))\n",
    "    your_perplexity = model.perplexity(validation_text[:10])\n",
    "    assert abs(perplexity-your_perplexity) < 0.1, \"your perplexity does not \" + \\\n",
    "    \"match the one we calculated from `next_word_probabilities`,\\n\" + \\\n",
    "    \"at least one of `perplexity` or `next_word_probabilities` is incorrect.\\n\" + \\\n",
    "    f\"we calcuated {perplexity} from `next_word_probabilities`,\\n\" + \\\n",
    "    f\"but your perplexity function returned {your_perplexity} (on a small sample).\"\n",
    "\n",
    "\n",
    "check_validity(unigram_demonstration_model)"
   ]
  },
  {
   "cell_type": "markdown",
   "metadata": {
    "id": "U4esz5XrEpNo"
   },
   "source": [
    "To generate from a language model, we can sample one word at a time conditioning on the words we have generated so far."
   ]
  },
  {
   "cell_type": "code",
   "execution_count": 69,
   "metadata": {
    "id": "bfNj5nl4E7Zn"
   },
   "outputs": [
    {
     "name": "stdout",
     "output_type": "stream",
     "text": [
      "<eos> <eos> <eos> east of unusual April chapel pages <eos> novel <eos> = The episodes , Let territory the ' Commission <eos>\n"
     ]
    }
   ],
   "source": [
    "def generate_text(model, n=20, prefix=('<eos>', '<eos>')):\n",
    "    prefix = list(prefix)\n",
    "    for _ in range(n):\n",
    "        probs = model.next_word_probabilities(prefix)\n",
    "        word = random.choices(vocab.itos, probs)[0]\n",
    "        prefix.append(word)\n",
    "    return ' '.join(prefix)\n",
    "\n",
    "print(generate_text(unigram_demonstration_model))"
   ]
  },
  {
   "cell_type": "markdown",
   "metadata": {
    "id": "wq-WtaM6F6kN"
   },
   "source": [
    "In fact there are many strategies to get better-sounding samples, such as only sampling from the top-k words or sharpening the distribution with a temperature.  You can read more about sampling from a language model in this recent paper: https://arxiv.org/pdf/1904.09751.pdf.\n",
    "\n",
    "## Try to implement top-k and top-p sampling (Extension task)"
   ]
  },
  {
   "cell_type": "code",
   "execution_count": 64,
   "metadata": {},
   "outputs": [
    {
     "name": "stdout",
     "output_type": "stream",
     "text": [
      "<eos> <eos> that its ( and at , Among , the poem Oxford 1944 were of to to known , has 14\n",
      "<eos> <eos> for in The . <unk> a for , the of <unk> = ) of . and 's <unk> = \"\n",
      "<eos> <eos> , , ) \" and as to with , the to as , 's the a @-@ ) the ,\n",
      "<eos> <eos> reverse km campuses St. nearly this Fairies governments fungi 220 gave some starts festivities HBO medals Grade Mycena you Bree\n"
     ]
    }
   ],
   "source": [
    "import numpy as np\n",
    "\n",
    "def generate_text(model, n=20, prefix=('<eos>', '<eos>'), do_sampling=True, top_p=None, top_k=None):\n",
    "    prefix = list(prefix)\n",
    "\n",
    "    if not do_sampling:\n",
    "        for _ in range(n):\n",
    "            probs = model.next_word_probabilities(prefix)\n",
    "            word = random.choices(vocab.itos, probs)[0]\n",
    "            prefix.append(word)\n",
    "        return ' '.join(prefix)\n",
    "\n",
    "    \n",
    "    if do_sampling and top_k != None:\n",
    "        for _ in range(n):\n",
    "            probs = model.next_word_probabilities(prefix)\n",
    "            top_k_probs, top_k_indices = zip(*sorted([(prob, i) for i, prob in enumerate(probs)], reverse=True)[:top_k])\n",
    "            top_k_probs = np.array(top_k_probs) / sum(top_k_probs)\n",
    "            word_idx = random.choices(top_k_indices, weights=top_k_probs)[0]\n",
    "            word = vocab.itos[word_idx]\n",
    "            prefix.append(word)\n",
    "        return ' '.join(prefix)\n",
    "\n",
    "    \n",
    "    if do_sampling and top_p != None:\n",
    "        for _ in range(n):\n",
    "            probs = model.next_word_probabilities(prefix)\n",
    "            sorted_probs = sorted(enumerate(probs), key=lambda x: x[1], reverse=True)\n",
    "            cumulative_probs = 0.0\n",
    "            for i, (index, prob) in enumerate(sorted_probs):\n",
    "                cumulative_probs += prob\n",
    "                if cumulative_probs >= top_p or i == len(sorted_probs) - 1:\n",
    "                    break\n",
    "            normalized_probs = [prob / cumulative_probs for _, prob in sorted_probs[:i+1]]\n",
    "            word = random.choices([vocab.itos[index] for index, _ in sorted_probs[:i+1]], weights=normalized_probs)[0]\n",
    "            prefix.append(word)\n",
    "        return ' '.join(prefix)\n",
    "        \n",
    "\n",
    "print(generate_text(unigram_demonstration_model, do_sampling=True, top_p=0.8))\n",
    "print(generate_text(unigram_demonstration_model, do_sampling=True, top_k=30))\n",
    "\n",
    "\n",
    "\n",
    "\n",
    "\n",
    "\n",
    "\n",
    "# Question-1: can we use top-p and top-k together? How to implement it. \n",
    "\n",
    "def generate_text_topall(model, n=20, prefix=('<eos>', '<eos>'), top_p=0.9, top_k=30):\n",
    "    prefix = list(prefix)\n",
    "\n",
    "    \n",
    "    for _ in range(n):\n",
    "        probs = model.next_word_probabilities(prefix)\n",
    "        \n",
    "        # Apply top-p sampling\n",
    "        sorted_probs = sorted(enumerate(probs), key=lambda x: x[1], reverse=True)\n",
    "        cumulative_probs = 0.0\n",
    "        top_p_indices = []\n",
    "        for i, (index, prob) in enumerate(sorted_probs):\n",
    "            cumulative_probs += prob\n",
    "            top_p_indices.append(index)\n",
    "            if cumulative_probs >= top_p or i == len(sorted_probs) - 1:\n",
    "                break\n",
    "        \n",
    "        # Apply top-k sampling on the top-p subset\n",
    "        top_p_probs = [probs[idx] for idx in top_p_indices]\n",
    "        top_k_probs, top_k_indices = zip(*sorted([(prob, top_p_indices[i]) for i, prob in enumerate(top_p_probs)], reverse=True)[:top_k])\n",
    "        top_k_probs = np.array(top_k_probs) / sum(top_k_probs)\n",
    "        word_idx = random.choices(top_k_indices, weights=top_k_probs)[0]\n",
    "        word = vocab.itos[word_idx]\n",
    "\n",
    "        \n",
    "        prefix.append(word)\n",
    "        \n",
    "    return ' '.join(prefix)\n",
    "\n",
    "\n",
    "\n",
    "\n",
    "\n",
    "print(generate_text_topall(unigram_demonstration_model, top_p=0.8, top_k=30))\n",
    "\n",
    "\n",
    "# * Feel free to search on the Internet.\n",
    "# Question-2: Temperature is also an important parameter in current sampling designs. Can we implement it here?\n",
    "\n",
    "def generate_text_temperature(model, n=20, prefix=('<eos>', '<eos>'), temperature=1.0):\n",
    "    prefix = list(prefix)\n",
    "    for _ in range(n):\n",
    "        probs = model.next_word_probabilities(prefix)\n",
    "        probs_smoothed = [float(x)+1e-10 for x in probs] # 平滑处理，避免出现0\n",
    "        scaled_probs = np.log(probs_smoothed) / temperature\n",
    "        scaled_probs -= np.max(scaled_probs)\n",
    "        scaled_probs = np.exp(scaled_probs)\n",
    "        scaled_probs /= np.sum(scaled_probs)\n",
    "        word = np.random.choice(vocab.itos, p=scaled_probs)\n",
    "        prefix.append(word)\n",
    "    return ' '.join(prefix)\n",
    "        \n",
    "\n",
    "print(generate_text_temperature(unigram_demonstration_model, temperature=1.5))"
   ]
  },
  {
   "cell_type": "markdown",
   "metadata": {
    "id": "uuopg4rYjf2O"
   },
   "source": [
    "You will need to submit some outputs from the models you implement for us to grade.  The following function will be used to generate the required output files."
   ]
  },
  {
   "cell_type": "code",
   "execution_count": 3,
   "metadata": {
    "executionInfo": {
     "elapsed": 830,
     "status": "ok",
     "timestamp": 1614318186687,
     "user": {
      "displayName": "Rudy Corona Rodriguez",
      "photoUrl": "",
      "userId": "02448394073714905143"
     },
     "user_tz": 480
    },
    "id": "ZB6MKPbm4z9s",
    "outputId": "3b7db928-270a-4150-f40b-ba7dadbc7d8e"
   },
   "outputs": [],
   "source": [
    "# !curl -O https://cal-cs288.github.io/sp21/project_files/proj_1/eval_prefixes.txt\n",
    "# !curl -O https://cal-cs288.github.io/sp21/project_files/proj_1/eval_output_vocab.txt\n",
    "# !curl -O https://cal-cs288.github.io/sp21/project_files/proj_1/eval_prefixes_short.txt\n",
    "# !curl -O https://cal-cs288.github.io/sp21/project_files/proj_1/eval_output_vocab_short.txt\n",
    "\n",
    "import tqdm\n",
    "\n",
    "def save_truncated_distribution(model, filename, short=True):\n",
    "    \"\"\"Generate a file of truncated distributions.\n",
    "    \n",
    "    Probability distributions over the full vocabulary are large,\n",
    "    so we will truncate the distribution to a smaller vocabulary.\n",
    "\n",
    "    Please do not edit this function\n",
    "    \"\"\"\n",
    "    vocab_name = 'eval_output_vocab'\n",
    "    prefixes_name = 'eval_prefixes'\n",
    "\n",
    "    if short: \n",
    "      vocab_name += '_short'\n",
    "      prefixes_name += '_short'\n",
    "\n",
    "    with open('{}.txt'.format(vocab_name), 'r',encoding='utf-8') as eval_vocab_file:\n",
    "        eval_vocab = [w.strip() for w in eval_vocab_file]\n",
    "    eval_vocab_ids = [vocab.stoi[s] for s in eval_vocab]\n",
    "\n",
    "    all_selected_probabilities = []\n",
    "    with open('{}.txt'.format(prefixes_name), 'r',encoding='utf-8') as eval_prefixes_file:\n",
    "        lines = eval_prefixes_file.readlines()\n",
    "        for line in tqdm.notebook.tqdm(lines, leave=False):\n",
    "            prefix = line.strip().split(' ')\n",
    "            probs = model.next_word_probabilities(prefix)\n",
    "            selected_probs = np.array([probs[i] for i in eval_vocab_ids], dtype=np.float32)\n",
    "            all_selected_probabilities.append(selected_probs)\n",
    "\n",
    "    all_selected_probabilities = np.stack(all_selected_probabilities)\n",
    "    np.save(filename, all_selected_probabilities)\n",
    "    print('saved', filename)"
   ]
  },
  {
   "cell_type": "code",
   "execution_count": 66,
   "metadata": {
    "id": "_nzVrTWcH67Q"
   },
   "outputs": [
    {
     "data": {
      "application/vnd.jupyter.widget-view+json": {
       "model_id": "",
       "version_major": 2,
       "version_minor": 0
      },
      "text/plain": [
       "  0%|          | 0/1000 [00:00<?, ?it/s]"
      ]
     },
     "metadata": {},
     "output_type": "display_data"
    },
    {
     "name": "stdout",
     "output_type": "stream",
     "text": [
      "saved unigram_demonstration_predictions.npy\n"
     ]
    }
   ],
   "source": [
    "save_truncated_distribution(unigram_demonstration_model, \n",
    "                            'unigram_demonstration_predictions.npy')"
   ]
  },
  {
   "cell_type": "markdown",
   "metadata": {
    "id": "MEfUwbbS9vy0"
   },
   "source": [
    "### N-gram Model\n",
    "\n",
    "Now it's time to implement an n-gram language model.\n",
    "\n",
    "Because not every n-gram will have been observed in training, use add-alpha smoothing to make sure no output word has probability 0.\n",
    "\n",
    "$$P(w_2|w_1)=\\frac{C(w_1,w_2)+\\alpha}{C(w_1)+N\\alpha}$$\n",
    "\n",
    "where $N$ is the vocab size and $C$ is the count for the given bigram.  An alpha value around `3e-3`  should work.  Later, we'll replace this smoothing with model backoff.\n",
    "\n",
    "One edge case you will need to handle is at the beginning of the text where you don't have `n-1` prior words.  You can handle this however you like as long as you produce a valid probability distribution, but just using a uniform distribution over the vocabulary is reasonable for the purposes of this project.\n",
    "\n",
    "A properly implemented bi-gram model should get a perplexity below 510 on the validation set.\n",
    "\n",
    "**Note**: Do not change the signature of the `next_word_probabilities` and `perplexity` functions.  We will use these as a common interface for all of the different model types.  Make sure these two functions call `n_gram_probability`, because later we are going to override `n_gram_probability` in a subclass. \n",
    "Also, we suggest pre-computing and caching the counts $C$ when you initialize `NGramModel` for efficiency. "
   ]
  },
  {
   "cell_type": "code",
   "execution_count": 67,
   "metadata": {
    "id": "YGnGpnPIXpTW"
   },
   "outputs": [
    {
     "name": "stdout",
     "output_type": "stream",
     "text": [
      "unigram validation perplexity: 965.0913686618096\n",
      "bigram validation perplexity: 504.4148539982192\n",
      "trigram validation perplexity: 2965.494861349281\n"
     ]
    }
   ],
   "source": [
    "import nltk\n",
    "\n",
    "def compute_freq(tokens, n_value=2):\n",
    "    assert n_value >= 0\n",
    "    if n_value == 0:\n",
    "        return {(): len(tokens)}\n",
    "\n",
    "    ngrams = nltk.ngrams(tokens, n_value)\n",
    "    ngram_fdist = nltk.FreqDist(ngrams)\n",
    "    return ngram_fdist\n",
    "\n",
    "\n",
    "class NGramModel(UnigramModel):\n",
    "    def __init__(self, train_text, n=2, alpha=3e-3):\n",
    "        super().__init__(train_text)\n",
    "\n",
    "        # get counts and perform any other setup\n",
    "        self.n = n\n",
    "        self.smoothing = alpha\n",
    "\n",
    "        # YOUR CODE HERE\n",
    "\n",
    "        self.ngram_counts = compute_freq(train_text, n)\n",
    "        self.base_counts = compute_freq(train_text, n-1)\n",
    "\n",
    "    def n_gram_probability(self, n_gram):\n",
    "        \"\"\"Return the probability of the last word in an n-gram.\n",
    "        \n",
    "        n_gram -- a list of string tokens\n",
    "        returns the conditional probability of the last token given the rest.\n",
    "        \"\"\"\n",
    "        assert len(n_gram) == self.n\n",
    "\n",
    "        # YOUR CODE HERE\n",
    "\n",
    "        return (self.ngram_counts[tuple(n_gram)] + self.smoothing) / (\n",
    "                self.base_counts[tuple(n_gram[:-1])] + len(vocab) * self.smoothing)\n",
    "\n",
    "    def next_word_probabilities(self, text_prefix):\n",
    "        \"\"\"Return a list of probabilities for each word in the vocabulary.\"\"\"\n",
    "\n",
    "        # YOUR CODE HERE\n",
    "        # use your function n_gram_probability\n",
    "        # vocab.itos contains a list of words to return probabilities for\n",
    "\n",
    "        if len(text_prefix) < (self.n-1):\n",
    "            return [self.probability(word) for word in vocab.itos]\n",
    "\n",
    "        prefix = text_prefix[(1-self.n):] if self.n > 1 else []\n",
    "        return [self.n_gram_probability(prefix+[word]) for word in vocab.itos]\n",
    "\n",
    "    def perplexity(self, full_text):\n",
    "        \"\"\" full_text is a list of string tokens\n",
    "        return perplexity as a float \"\"\"\n",
    "\n",
    "        # YOUR CODE HERE\n",
    "        # use your function n_gram_probability\n",
    "        # This method should differ a bit from the example unigram model because \n",
    "        # the first n-1 words of full_text must be handled as a special case.\n",
    "\n",
    "        log_probabilities = []\n",
    "        for i in range(self.n-1):\n",
    "            word = full_text[i]\n",
    "            log_probabilities.append(math.log(self.probability(word), 2))\n",
    "        for i in range(self.n-1, len(full_text)):\n",
    "            n_gram = full_text[(i+1-self.n):(i+1)]\n",
    "            log_probabilities.append(math.log(self.n_gram_probability(n_gram), 2))\n",
    "        return 2 ** -np.mean(log_probabilities)\n",
    "\n",
    "\n",
    "unigram_model = NGramModel(train_text, 1)\n",
    "check_validity(unigram_model)\n",
    "print('unigram validation perplexity:', unigram_model.perplexity(validation_text)) # this should be the almost the same as our unigram model perplexity above\n",
    "\n",
    "bigram_model = NGramModel(train_text, n=2)\n",
    "check_validity(bigram_model)\n",
    "print('bigram validation perplexity:', bigram_model.perplexity(validation_text))\n",
    "\n",
    "trigram_model = NGramModel(train_text, n=3)\n",
    "check_validity(trigram_model)\n",
    "print('trigram validation perplexity:', trigram_model.perplexity(validation_text)) # this won't do very well...\n",
    "\n",
    "#save_truncated_distribution(bigram_model, 'bigram_predictions.npy') # this might take a few minutes"
   ]
  },
  {
   "cell_type": "markdown",
   "metadata": {
    "id": "TzRRLnk73-r9"
   },
   "source": [
    "Please download `bigram_predictions.npy` once you finish this section so that you can submit it.\n",
    "\n",
    "In the block below, please report your bigram validation perplexity.  (We will use this to help us calibrate our scoring on the test set.)"
   ]
  },
  {
   "cell_type": "markdown",
   "metadata": {
    "id": "DEcUK27xVTcK"
   },
   "source": [
    "<!-- Do not remove this comment, it is used by the autograder: RqYJKsoTS6 -->\n",
    "\n",
    "Bigram validation perplexity: ***504.4148539982192***"
   ]
  },
  {
   "cell_type": "markdown",
   "metadata": {
    "id": "qs6zgYw9VTx1"
   },
   "source": [
    "We can also generate samples from the model to get an idea of how it is doing."
   ]
  },
  {
   "cell_type": "code",
   "execution_count": 71,
   "metadata": {
    "id": "m2V-qHxB4yhS"
   },
   "outputs": [
    {
     "name": "stdout",
     "output_type": "stream",
     "text": [
      "<eos> <eos> Gaines have been exaggerated Barbarian definite body but one game of a tick hypocrisy 1740 1783 alone , although he\n"
     ]
    }
   ],
   "source": [
    "def generate_text(model, n=20, prefix=('<eos>', '<eos>')):\n",
    "    prefix = list(prefix)\n",
    "    for _ in range(n):\n",
    "        probs = model.next_word_probabilities(prefix)\n",
    "        word = random.choices(vocab.itos, probs)[0]\n",
    "        prefix.append(word)\n",
    "    return ' '.join(prefix)\n",
    "    \n",
    "print(generate_text(bigram_model))"
   ]
  },
  {
   "cell_type": "markdown",
   "metadata": {
    "id": "VsR8_Ch7AXAZ"
   },
   "source": [
    "We now free up some RAM, **it is important to run the cell below, otherwise you may quite possibly run out of RAM in the runtime.**"
   ]
  },
  {
   "cell_type": "code",
   "execution_count": 72,
   "metadata": {
    "id": "EjKt1ncf_ypz"
   },
   "outputs": [],
   "source": [
    "# Free up some RAM. \n",
    "del bigram_model\n",
    "del trigram_model"
   ]
  },
  {
   "cell_type": "markdown",
   "metadata": {
    "id": "SWXNlsEKb3Mz"
   },
   "source": [
    "This basic model works okay for bigrams, but a better strategy (especially for higher-order models) is to use backoff.  Implement backoff with absolute discounting.\n",
    "$$P\\left(w_i|w_{i-n+1:i-1}\\right)=\\frac{max\\left\\{C(w_{i-n+1:i})-\\delta,0\\right\\}}{\\sum_{w' \\in V} C(w_{i-n+1:i-1}, w')} + \\alpha(w_{i-n+1:i-1}) P(w_i|w_{i-n+2:i-1})$$\n",
    "\n",
    "$$\\alpha\\left(w_{i-n+1:i-1}\\right)=\\frac{\\delta N_{1+}(w_{i-n+1:i-1})}{{\\sum_{w' \\in V} C(w_{i-n+1:i-1}, w')}}$$\n",
    "where $V$ is the vocab and $N_{1+}$ is the number of words that appear after the previous $n-1$ words (the number of times the max will select something other than 0 in the first equation). $w_{i-n+1:i}$ denotes the $n$-gram starting at $w_{i-n+1}$ and ending at $w_i$, and $(w_{i-n+1:i-1}, w')$ denotes the n-gram containing the previous $n-1$ words followed by $w'$. If $\\sum_{w' \\in V} C(w_{i-n+1:i-1}, w')=0$, use the lower order model probability directly (the above equations would have a division by 0).\n",
    "\n",
    "We found a discount $\\delta$ of 0.9 to work well based on validation performance.  A trigram model with this discount value should get a validation perplexity below 275."
   ]
  },
  {
   "cell_type": "code",
   "execution_count": 73,
   "metadata": {
    "id": "BV4e4_mEc7VY"
   },
   "outputs": [
    {
     "name": "stdout",
     "output_type": "stream",
     "text": [
      "trigram backoff validation perplexity: 271.10633787343585\n"
     ]
    }
   ],
   "source": [
    "class DiscountBackoffModel(NGramModel):\n",
    "    def __init__(self, train_text, lower_order_model, n=2, delta=0.9):\n",
    "        # get counts and perform any other setup\n",
    "        self.n = n\n",
    "        self.lower_order_model = lower_order_model\n",
    "        self.discount = delta\n",
    "\n",
    "        # YOUR CODE HERE\n",
    "\n",
    "        self.counts = Counter(train_text)\n",
    "        self.total_count = len(train_text)\n",
    "\n",
    "        self.ngram_counts = nltk.FreqDist()\n",
    "        for i in range(len(train_text)-n):\n",
    "            prefix = tuple(train_text[i:(i+n-1)])\n",
    "            if prefix not in self.ngram_counts:\n",
    "                self.ngram_counts[prefix] = nltk.FreqDist()\n",
    "            last = train_text[i+n-1]\n",
    "            if last not in self.ngram_counts[prefix]:\n",
    "                self.ngram_counts[prefix][last] = 1\n",
    "            else:\n",
    "                self.ngram_counts[prefix][last] += 1\n",
    "        self.base_counts = compute_freq(train_text, n-1)\n",
    "\n",
    "    def n_gram_probability(self, n_gram):\n",
    "        assert len(n_gram) == self.n\n",
    "\n",
    "        # YOUR CODE HERE\n",
    "        # back off to the lower_order model with n'=n-1 using its n_gram_probability function\n",
    "\n",
    "        lower_order_prob = self.lower_order_model.n_gram_probability(n_gram[1:])\n",
    "\n",
    "        ngram = tuple(n_gram)\n",
    "        last = ngram[-1]\n",
    "        prefix = ngram[:-1]\n",
    "\n",
    "        prefix_counts = self.base_counts[prefix]\n",
    "        if prefix_counts == 0:\n",
    "            return lower_order_prob\n",
    "\n",
    "        alpha = len(self.ngram_counts[prefix]) / prefix_counts * self.discount\n",
    "\n",
    "        return (max([self.ngram_counts[prefix][ngram[-1]] - self.discount, 0]) / prefix_counts + alpha * lower_order_prob)\n",
    "\n",
    "\n",
    "\n",
    "bigram_backoff_model = DiscountBackoffModel(train_text, unigram_model, 2)\n",
    "trigram_backoff_model = DiscountBackoffModel(train_text, bigram_backoff_model, 3)\n",
    "check_validity(trigram_backoff_model)\n",
    "print('trigram backoff validation perplexity:', trigram_backoff_model.perplexity(validation_text))"
   ]
  },
  {
   "cell_type": "markdown",
   "metadata": {
    "id": "LVrWYSMsBRSV"
   },
   "source": [
    "Free up RAM. "
   ]
  },
  {
   "cell_type": "code",
   "execution_count": 74,
   "metadata": {
    "id": "_WJe_trXBTjN"
   },
   "outputs": [],
   "source": [
    "# Release models we don't need any more. \n",
    "del unigram_model\n",
    "del bigram_backoff_model\n",
    "del trigram_backoff_model"
   ]
  },
  {
   "cell_type": "markdown",
   "metadata": {
    "id": "DPecL2jMXQ3y"
   },
   "source": [
    "Fill in your trigram backoff perplexity here."
   ]
  },
  {
   "cell_type": "markdown",
   "metadata": {
    "id": "AIBVAMe0WV_1"
   },
   "source": [
    "<!-- Do not remove this comment, it is used by the autograder: RqYJKsoTS6 -->\n",
    "\n",
    "Trigram backoff validation perplexity: ***271.10633787343585***\n",
    "\n"
   ]
  },
  {
   "cell_type": "markdown",
   "metadata": {
    "id": "s3TFBf1CBiwp"
   },
   "source": [
    "Free up RAM. "
   ]
  },
  {
   "cell_type": "markdown",
   "metadata": {
    "id": "e5Y0S6XbB1iZ"
   },
   "source": [
    "### Neural N-gram Model\n",
    "\n",
    "In this section, you will implement a neural version of an n-gram model.  The model will use a simple feedforward neural network that takes the previous `n-1` words and outputs a distribution over the next word.\n",
    "\n",
    "You will use PyTorch to implement the model.  We've provided a little bit of code to help with the data loading using PyTorch's data loaders (https://pytorch.org/docs/stable/data.html)\n",
    "\n",
    "A model with the following architecture and hyperparameters should reach a validation perplexity below 226.\n",
    "* embed the words with dimension 128, then flatten into a single embedding for $n-1$ words (with size $(n-1)*128$)\n",
    "* run 2 hidden layers with 1024 hidden units, then project down to size 128 before the final layer (ie. 4 layers total). \n",
    "* use weight tying for the embedding and final linear layer (this made a very large difference in our experiments); you can do this by creating the output layer with `nn.Linear`, then using `F.embedding` with the linear layer's `.weight` to embed the input\n",
    "* rectified linear activation (ReLU) and dropout 0.1 after first 2 hidden layers. **Note: You will likely find a performance drop if you add a nonlinear activation function after the dimension reduction layer.**\n",
    "* train for 10 epochs with the Adam optimizer (should take around 15-20 minutes)\n",
    "* do early stopping based on validation set perplexity (see Project 0)\n",
    "\n",
    "\n",
    "We encourage you to try other architectures and hyperparameters, and you will likely find some that work better than the ones listed above.  A proper implementation with these should be enough to receive full credit on the assignment, though."
   ]
  },
  {
   "cell_type": "code",
   "execution_count": 6,
   "metadata": {
    "executionInfo": {
     "elapsed": 3609091,
     "status": "error",
     "timestamp": 1614313717081,
     "user": {
      "displayName": "Rudy Corona Rodriguez",
      "photoUrl": "",
      "userId": "02448394073714905143"
     },
     "user_tz": 480
    },
    "id": "jokaz820Fk1h",
    "outputId": "2f4cda3e-61f1-4c3b-b8e6-6fb55704b160"
   },
   "outputs": [
    {
     "name": "stdout",
     "output_type": "stream",
     "text": [
      "Epoch0 validation perplexity: 26.898996577357654\n",
      "Best perplexity so far: 26.898996577357654\n",
      "Epoch1 validation perplexity: 25.46535567897791\n",
      "Best perplexity so far: 25.46535567897791\n",
      "Epoch2 validation perplexity: 27.259348999520174\n",
      "Epoch3 validation perplexity: 28.260338907296067\n",
      "Epoch4 validation perplexity: 26.83769076515407\n",
      "Epoch5 validation perplexity: 23.009794667950327\n",
      "Best perplexity so far: 23.009794667950327\n",
      "Epoch6 validation perplexity: 25.10098799344845\n",
      "Epoch7 validation perplexity: 24.29034093180757\n",
      "Epoch8 validation perplexity: 25.362116242400827\n",
      "Epoch9 validation perplexity: 25.000168619430713\n",
      "neural trigram validation perplexity: 23.009794667950327\n"
     ]
    },
    {
     "data": {
      "application/vnd.jupyter.widget-view+json": {
       "model_id": "",
       "version_major": 2,
       "version_minor": 0
      },
      "text/plain": [
       "  0%|          | 0/5000 [00:00<?, ?it/s]"
      ]
     },
     "metadata": {},
     "output_type": "display_data"
    },
    {
     "name": "stdout",
     "output_type": "stream",
     "text": [
      "saved neural_trigram_predictions.npy\n"
     ]
    }
   ],
   "source": [
    "def ids(tokens):\n",
    "    return [vocab.stoi[t] for t in tokens]\n",
    "\n",
    "assert torch.cuda.is_available(), \"no GPU found, in Colab go to 'Edit->Notebook settings' and choose a GPU hardware accelerator\"\n",
    "\n",
    "class NeuralNgramDataset(torch.utils.data.Dataset):\n",
    "    def __init__(self, text_token_ids, n):\n",
    "        self.text_token_ids = text_token_ids\n",
    "        self.n = n\n",
    "\n",
    "    def __len__(self):\n",
    "        return len(self.text_token_ids)\n",
    "\n",
    "    def __getitem__(self, i):\n",
    "        if i < self.n-1:\n",
    "            prev_token_ids = [vocab.stoi['<eos>']] * (self.n-i-1) + self.text_token_ids[:i]\n",
    "        else:\n",
    "            prev_token_ids = self.text_token_ids[i-self.n+1:i]\n",
    "\n",
    "        assert len(prev_token_ids) == self.n-1\n",
    "\n",
    "        x = torch.tensor(prev_token_ids)\n",
    "        y = torch.tensor(self.text_token_ids[i])\n",
    "        return x, y\n",
    "\n",
    "\n",
    "\n",
    "class NeuralNGramNetwork(nn.Module):\n",
    "    def __init__(self, n):\n",
    "        super().__init__()\n",
    "        self.n = n\n",
    "        self.embedding = nn.Embedding(len(vocab.itos), 128)\n",
    "        self.fc_layers = nn.Sequential(\n",
    "            nn.Linear(128 * (n - 1), 1024),\n",
    "            nn.ReLU(),\n",
    "            nn.Dropout(0.1),\n",
    "            nn.Linear(1024, 1024),\n",
    "            nn.ReLU(),\n",
    "            nn.Dropout(0.1),\n",
    "            nn.Linear(1024, 128),\n",
    "        )\n",
    "\n",
    "    def forward(self, x):\n",
    "        # x is a tensor of inputs with shape (batch, n-1)\n",
    "        # this function returns a tensor of log probabilities with shape (batch, vocab_size)\n",
    "        x_embed = self.embedding(x)  # (batch, n-1, 128)\n",
    "        x_embed = x_embed.view(x_embed.size(0), -1)  # (batch, (n-1)*128)\n",
    "        x_embed = self.fc_layers(x_embed)\n",
    "        output = F.linear(x_embed, self.embedding.weight)  # (batch, vocab_size)\n",
    "        return output\n",
    "\n",
    "\n",
    "\n",
    "class NeuralNGramModel:\n",
    "    # a class that wraps NeuralNGramNetwork to handle training and evaluation\n",
    "    # it's ok if this doesn't work for unigram modeling\n",
    "    def __init__(self, n):\n",
    "        self.n = n\n",
    "        self.network = NeuralNGramNetwork(n).cuda()\n",
    "\n",
    "\n",
    "    def train(self):\n",
    "        dataset = NeuralNgramDataset(ids(train_text), self.n)\n",
    "        train_loader = torch.utils.data.DataLoader(dataset, batch_size=128, shuffle=True)\n",
    "        # iterating over train_loader with a for loop will return a 2-tuple of batched tensors\n",
    "        # the first tensor will be previous token ids with size (batch, n-1),\n",
    "        # and the second will be the current token id with size (batch, )\n",
    "        # you will need to move these tensors to GPU, e.g. by using the Tensor.cuda() function.\n",
    "\n",
    "        # this will take some time to run; use tqdm.tqdm_notebook to get a progress bar \n",
    "        # (see Project 1a for example)\n",
    "\n",
    "        # YOUR CODE HERE\n",
    "        optimizer = torch.optim.Adam(self.network.parameters())\n",
    "        criterion = nn.CrossEntropyLoss()\n",
    "        best_perplexity=float('inf')\n",
    "        for epoch in range(10):\n",
    "            for batch in train_loader:\n",
    "                \n",
    "                x,label=batch\n",
    "                x,label=x.cuda(),label.cuda()\n",
    "                optimizer.zero_grad()\n",
    "                output=self.network(x)\n",
    "                loss=criterion(output,label)\n",
    "                loss.backward()\n",
    "                optimizer.step()\n",
    "            validation_perplexity = self.perplexity(validation_text)\n",
    "            print('Epoch'+str(epoch)+' validation perplexity:', validation_perplexity)\n",
    "\n",
    "            if validation_perplexity < best_perplexity:\n",
    "                best_perplexity = validation_perplexity\n",
    "                print(\"Best perplexity so far:\",best_perplexity)\n",
    "                torch.save(self.network.state_dict(), './tmp/nn_best.pt')\n",
    "\n",
    "        self.network.load_state_dict(torch.load('./tmp/nn_best.pt'))\n",
    "        return self.network\n",
    "        \n",
    "        \n",
    "            \n",
    "\n",
    "    def next_word_probabilities(self, text_prefix):\n",
    "        # YOUR CODE HERE\n",
    "        # don't forget self.network.eval()\n",
    "        # you will need to convert text_prefix from strings to numbers with the `ids` function\n",
    "        # if your `perplexity` function below is based on a NeuralNgramDataset DataLoader, you will need to use the same strategy for prefixes with less than n-1 tokens to pass the validity check\n",
    "        #   the data loader appends extra \"<eos>\" (end of sentence) tokens to the start of the input so there are always enough to run the network\n",
    "        if len(text_prefix) < self.n - 1:\n",
    "            text_prefix = ['<eos>'] * (self.n-len(text_prefix)-1) + text_prefix\n",
    "        text_prefix = text_prefix[-(self.n - 1):]\n",
    "        prefix = torch.tensor(ids(text_prefix), dtype=torch.int64).cuda().view(1, -1)\n",
    "        with torch.no_grad():\n",
    "            self.network.eval()\n",
    "            logits = self.network(prefix)\n",
    "            self.network.train()\n",
    "            probs = F.softmax(logits, dim=-1).view(-1)\n",
    "        return probs.cpu().numpy()\n",
    "        \n",
    "\n",
    "    \n",
    "    def perplexity(self, text):\n",
    "        # you may want to use a DataLoader here with a NeuralNgramDataset\n",
    "        # don't forget self.network.eval()\n",
    "\n",
    "        # YOUR CODE HERE\n",
    "         with torch.no_grad():\n",
    "            self.network.eval()\n",
    "            dataset = NeuralNgramDataset(ids(text), self.n)\n",
    "            data_loader = torch.utils.data.DataLoader(dataset, batch_size=128)\n",
    "            log_probabilities = []\n",
    "            for batch in data_loader:\n",
    "                x, label = batch\n",
    "                x=x.cuda()\n",
    "                label=label.cuda()\n",
    "                output = self.network(x)\n",
    "                output = F.softmax(output, dim=1)\n",
    "                log_probabilities = [math.log(prob[idx], 2) for prob, idx in zip(output, label)]\n",
    "\n",
    "            \n",
    "            self.network.train()\n",
    "            return 2 ** -np.mean(log_probabilities)\n",
    "\n",
    "\n",
    "\n",
    "neural_trigram_model = NeuralNGramModel(5)\n",
    "neural_trigram_model.train()\n",
    "print('neural trigram validation perplexity:', neural_trigram_model.perplexity(validation_text))\n",
    "\n",
    "save_truncated_distribution(neural_trigram_model, 'neural_trigram_predictions.npy', short=False)"
   ]
  },
  {
   "cell_type": "markdown",
   "metadata": {
    "id": "sm-xW4FGXYYi"
   },
   "source": [
    "Fill in your neural trigram perplexity."
   ]
  },
  {
   "cell_type": "markdown",
   "metadata": {
    "id": "Q0cX0k2IW88k"
   },
   "source": [
    "<!-- Do not remove this comment, it is used by the autograder: RqYJKsoTS6 -->\n",
    "\n",
    "Neural trigram validation perplexity: ***23.009794667950327***"
   ]
  },
  {
   "cell_type": "markdown",
   "metadata": {
    "id": "8t5PCZnkB1r5"
   },
   "source": [
    "Free up RAM."
   ]
  },
  {
   "cell_type": "code",
   "execution_count": 7,
   "metadata": {
    "id": "x1yH0lGOB1-S"
   },
   "outputs": [],
   "source": [
    "# Delete model we don't need. \n",
    "del neural_trigram_model"
   ]
  },
  {
   "cell_type": "markdown",
   "metadata": {
    "id": "qOp1Gb_0WjlE"
   },
   "source": [
    "### LSTM Model\n",
    "\n",
    "For this stage of the project, you will implement an LSTM language model.\n",
    "\n",
    "For recurrent language modeling, the data batching strategy is a bit different from what is used in some other tasks.  Sentences are concatenated together so that one sentence starts right after the other, and an unfinished sentence will be continued in the next batch.  We'll use the `torchtext` library to manage this batching for you.  To properly deal with this input format, you should save the last state of the LSTM from a batch to feed in as the first state of the next batch.  When you save state across different batches, you should call `.detach()` on the state tensors before the next batch to tell PyTorch not to backpropagate gradients through the state into the batch you have already finished (which will cause a runtime error).\n",
    "\n",
    "We expect your model to reach a validation perplexity below 130.  The following architecture and hyperparameters should be sufficient to get there.\n",
    "* 3 LSTM layers with 512 units\n",
    "* dropout of 0.5 after each LSTM layer\n",
    "* instead of projecting directly from the last LSTM output to the vocabulary size for softmax, project down to a smaller size first (e.g. 512->128->vocab_size). **NOTE: You may find that adding nonlinearities between these layers can hurt performance, try without first.**\n",
    "* use the same weights for the embedding layer and the pre-softmax layer; dimension 128\n",
    "* train with Adam (using default learning rates) for at least 20 epochs\n"
   ]
  },
  {
   "cell_type": "code",
   "execution_count": 9,
   "metadata": {
    "id": "0qOLXKKoc7If",
    "outputId": "0516ca99-c13d-4968-a677-be29f7c2b839"
   },
   "outputs": [
    {
     "name": "stdout",
     "output_type": "stream",
     "text": [
      "Epoch 0 validation perplexity: 63.88211406763718\n",
      "Best perplexity so far: 63.88211406763718\n",
      "Epoch 1 validation perplexity: 63.84354316094525\n",
      "Best perplexity so far: 63.84354316094525\n",
      "Epoch 2 validation perplexity: 63.940717028817204\n",
      "Epoch 3 validation perplexity: 63.95265389254983\n",
      "Epoch 4 validation perplexity: 63.922663124820296\n",
      "Epoch 5 validation perplexity: 63.92196811548475\n",
      "Epoch 6 validation perplexity: 63.921176639254405\n",
      "Epoch 7 validation perplexity: 63.92060441118135\n",
      "Epoch 8 validation perplexity: 63.91997942058205\n",
      "Epoch 9 validation perplexity: 63.921888212199384\n",
      "Epoch 10 validation perplexity: 63.99521007876407\n",
      "Epoch 11 validation perplexity: 63.94429598055493\n",
      "Epoch 12 validation perplexity: 63.94805008721357\n",
      "Epoch 13 validation perplexity: 63.95093707534752\n",
      "Epoch 14 validation perplexity: 63.95858997055833\n",
      "Epoch 15 validation perplexity: 63.962247395089406\n",
      "Epoch 16 validation perplexity: 63.96525539810172\n",
      "Epoch 17 validation perplexity: 63.96876650762371\n",
      "Epoch 18 validation perplexity: 63.96314836815128\n",
      "Epoch 19 validation perplexity: 63.96361780669846\n",
      "lstm validation perplexity: 63.84354316094525\n"
     ]
    },
    {
     "data": {
      "application/vnd.jupyter.widget-view+json": {
       "model_id": "",
       "version_major": 2,
       "version_minor": 0
      },
      "text/plain": [
       "  0%|          | 0/5000 [00:00<?, ?it/s]"
      ]
     },
     "metadata": {},
     "output_type": "display_data"
    },
    {
     "name": "stdout",
     "output_type": "stream",
     "text": [
      "saved lstm_predictions.npy\n"
     ]
    }
   ],
   "source": [
    "\n",
    "class LSTMNetwork(nn.Module):\n",
    "    # a PyTorch Module that holds the neural network for your model\n",
    "\n",
    "    def __init__(self):\n",
    "        super().__init__()\n",
    "\n",
    "        # YOUR CODE HERE\n",
    "        self.embedding = nn.Embedding(len(vocab.itos), 128)   #[32, 64, 128]\n",
    "        self.lstm=nn.LSTM(input_size=128, hidden_size=512, num_layers=3, dropout=0.7)\n",
    "        self.fc=nn.Linear(512,128)\n",
    "        self.pre_softmax=nn.Linear(128,len(vocab.itos))\n",
    "\n",
    "    \n",
    "    #batch shape: torch.Size([32, 64]),batch_size=64,bptt_len=32\n",
    "    def forward(self, x, state):\n",
    "        \"\"\"Compute the output of the network.\n",
    "        \n",
    "        Note: In the Pytorch LSTM tutorial, the state variable is named \"hidden\":\n",
    "        https://pytorch.org/tutorials/beginner/nlp/sequence_models_tutorial.html\n",
    "\n",
    "        The torch.nn.LSTM documentation is quite helpful:\n",
    "        https://pytorch.org/docs/stable/nn.html#lstm\n",
    "    \n",
    "        x - a tensor of int64 inputs with shape (seq_len, batch)\n",
    "        state - a tuple of two tensors with shape (num_layers, batch, hidden_size)\n",
    "                representing the hidden state and cell state of the of the LSTM.\n",
    "        returns a tuple with two elements:\n",
    "          - a tensor of log probabilities with shape (seq_len, batch, vocab_size)\n",
    "          - a state tuple returned by applying the LSTM.\n",
    "        \"\"\"\n",
    "\n",
    "        # Note that the nn.LSTM module expects inputs with the sequence \n",
    "        # dimension before the batch by default.\n",
    "        # In this case the dimensions are already in the right order, \n",
    "        # but watch out for this since sometimes people put the batch first\n",
    "\n",
    "        # YOUR CODE HERE\n",
    "        x=self.embedding(x)\n",
    "        x,state=self.lstm(x,state)\n",
    "        x=self.fc(x)\n",
    "        x=self.pre_softmax(x)\n",
    "        x=F.softmax(x,2)\n",
    "        return x, state\n",
    "\n",
    "\n",
    "\n",
    "class LSTMModel:\n",
    "    \"A class that wraps LSTMNetwork to handle training and evaluation.\"\n",
    "\n",
    "    def __init__(self):\n",
    "        self.network = LSTMNetwork().cuda()\n",
    "\n",
    "    def train(self):\n",
    "        train_iterator = data.BPTTIterator(train_dataset, batch_size=64, bptt_len=32, device='cuda')\n",
    "        # Iterate over train_iterator with a for loop to get batches\n",
    "        # each batch object has a .text and .target attribute with\n",
    "        # token id tensors for the input and output respectively.\n",
    "\n",
    "        # The initial state passed into the LSTM should be set to zero.\n",
    "\n",
    "        # YOUR CODE HERE\n",
    "        optimizer = torch.optim.Adam(self.network.parameters())\n",
    "        criterion=nn.CrossEntropyLoss()\n",
    "        best_perplexity = float('inf')\n",
    "        for epoch in range(20):\n",
    "            state=None\n",
    "            for batch in train_iterator:\n",
    "                text,target=batch.text,batch.target\n",
    "                text,target=text.cuda(),target.cuda()\n",
    "                #print(\"text shape:\",text.shape)\n",
    "                #print(\"target shape:\",target.shape)\n",
    "                optimizer.zero_grad()\n",
    "                output,(h,c) = self.network(text,state)\n",
    "                \n",
    "                target=target.view(-1)\n",
    "                output=output.view(-1,output.shape[-1])\n",
    "                loss = criterion(output,target)\n",
    "                loss.backward()\n",
    "                optimizer.step()\n",
    "                h=h.detach()\n",
    "                c=c.detach()\n",
    "                state=(h,c)\n",
    "                \n",
    "                \n",
    "            validation_perplexity = self.dataset_perplexity(validation_dataset)\n",
    "            print('Epoch '+str(epoch)+' validation perplexity:', validation_perplexity)\n",
    "\n",
    "            if validation_perplexity < best_perplexity:\n",
    "                best_perplexity = validation_perplexity\n",
    "                print(\"Best perplexity so far:\",best_perplexity)\n",
    "                torch.save(self.network.state_dict(), './tmp/lstm_best.pt')\n",
    "\n",
    "        self.network.load_state_dict(torch.load('./tmp/lstm_best.pt'))\n",
    "        return self.network\n",
    "                \n",
    "                \n",
    "                \n",
    "\n",
    "\n",
    "    def next_word_probabilities(self, text_prefix):\n",
    "        \"Return a list of probabilities for each word in the vocabulary.\"\n",
    "\n",
    "        prefix_token_tensor = torch.tensor(ids(text_prefix), device='cuda' if torch.cuda.is_available() else 'cpu').view(-1, 1)\n",
    "        \n",
    "        # YOUR CODE HERE\n",
    "        state = None\n",
    "        with torch.no_grad(): \n",
    "            self.network.eval()\n",
    "            output, state = self.network(prefix_token_tensor,state)\n",
    "            prob = F.softmax(output[-1], 1).squeeze().tolist()\n",
    "            self.network.train()\n",
    "            return prob\n",
    "\n",
    "\n",
    "\n",
    "    def dataset_perplexity(self, torchtext_dataset):\n",
    "        \"Return perplexity as a float.\"\n",
    "        # Your code should be very similar to next_word_probabilities, but\n",
    "        # run in a loop over batches. Use torch.no_grad() for extra speed.\n",
    "\n",
    "        iterator = data.BPTTIterator(torchtext_dataset, batch_size=64, bptt_len=32, device='cuda')\n",
    "\n",
    "        # YOUR CODE HERE\n",
    "        state=None\n",
    "        with torch.no_grad():\n",
    "            self.network.eval()\n",
    "            log_probabilities = []\n",
    "            for batch in iterator:\n",
    "                text, target = batch.text,batch.target\n",
    "                text,target=text.cuda(),target.cuda()\n",
    "                output,_= self.network(text,state)\n",
    "                output = F.softmax(output, dim=1)\n",
    "                target=target.view(-1)\n",
    "                output=output.view(-1,output.shape[-1])\n",
    "                log_probabilities = [math.log(prob[idx],2) for prob, idx in zip(output, target)]\n",
    "\n",
    "            self.network.train()\n",
    "            return 2 ** -np.mean(log_probabilities)\n",
    "\n",
    "\n",
    "\n",
    "\n",
    "lstm_model = LSTMModel()\n",
    "lstm_model.train()\n",
    "\n",
    "print('lstm validation perplexity:', lstm_model.dataset_perplexity(validation_dataset))\n",
    "save_truncated_distribution(lstm_model, 'lstm_predictions.npy', short=False)"
   ]
  },
  {
   "cell_type": "markdown",
   "metadata": {
    "id": "7pGhdPQqHx9v"
   },
   "source": [
    "<!-- Do not remove this comment, it is used by the autograder: RqYJKsoTS6 -->\n",
    "\n",
    "Fill in your LSTM perplexity. \n",
    "\n",
    "LSTM validation perplexity: ***63.84354316094525***"
   ]
  },
  {
   "cell_type": "markdown",
   "metadata": {
    "id": "BHTOfrCG8CRF"
   },
   "source": [
    "### Submission\n",
    "\n",
    "Upload a submission with the following files:\n",
    "* hw1b.ipynb (rename to match this exactly)\n",
    "* bigram_predictions.npy\n",
    "* neural_trigram_predictions.npy\n",
    "* (extension) lstm_predictions.npy (this should also include all improvements from your exploration) \n",
    "* report.pdf （can be markdown)\n",
    "\n",
    "You can upload files individually or as part of a zip file, but if using a zip file be sure you are zipping the files directly and not a folder that contains them.\n",
    "\n",
    "Be sure to check the output of the autograder after it runs.  It should confirm that no files are missing and that the output files have the correct format.  Note that the test set perplexities shown by the autograder are on a completely different scale from your validation set perplexities due to truncating the distribution and selecting different text.  Don't worry if the values seem much worse."
   ]
  }
 ],
 "metadata": {
  "kernelspec": {
   "display_name": "py002",
   "language": "python",
   "name": "py002"
  },
  "language_info": {
   "codemirror_mode": {
    "name": "ipython",
    "version": 3
   },
   "file_extension": ".py",
   "mimetype": "text/x-python",
   "name": "python",
   "nbconvert_exporter": "python",
   "pygments_lexer": "ipython3",
   "version": "3.6.13"
  }
 },
 "nbformat": 4,
 "nbformat_minor": 4
}
